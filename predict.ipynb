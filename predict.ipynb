{
 "cells": [
  {
   "cell_type": "code",
   "execution_count": 2,
   "metadata": {},
   "outputs": [],
   "source": [
    "import sys\n",
    "import torch.utils.data\n",
    "import torch\n",
    "from glob import glob\n",
    "from  torchvision import transforms,datasets\n",
    "from PIL import Image\n",
    "import numpy as np\n",
    "import os\n",
    "import torch.nn as nn\n",
    "import torch.nn.functional as F\n",
    "import argparse\n",
    "import time\n",
    "import cv2\n",
    "from torch.autograd import Variable\n",
    "cwd = os.getcwd()\n",
    "parser = argparse.ArgumentParser('pix4d')\n",
    "\n",
    "## general settings.\n",
    "parser.add_argument('--use_gpu', type=int, default=1)\n",
    "parser.add_argument('--batch', type=int, default=1)\n",
    "config, _ = parser.parse_known_args()"
   ]
  },
  {
   "cell_type": "code",
   "execution_count": 3,
   "metadata": {},
   "outputs": [],
   "source": [
    "class Net(nn.Module):\n",
    "    def __init__(self):\n",
    "        super(Net, self).__init__()\n",
    "        self.conv1 = nn.Conv2d(3 ,16, 3, padding=1)\n",
    "        self.conv2 = nn.Conv2d(16,32, 3, padding=1)\n",
    "        self.conv3 = nn.Conv2d(32,16, 3, padding=1)\n",
    "        self.conv4 = nn.Conv2d(16, 2, 5, padding=2)\n",
    "        self.max = nn.MaxPool2d(2, stride=2)\n",
    "        self.ups = nn.Upsample(scale_factor=2, mode='bilinear')\n",
    "        self.relu  = nn.ReLU()\n",
    "        self.softmax = nn.Softmax2d()\n",
    "        \n",
    "    def forward(self, x):\n",
    "        x = self.relu(self.conv1(x))\n",
    "        x = self.relu(self.conv2(x))\n",
    "        x = self.max(x)\n",
    "        x = self.relu(self.conv3(x))\n",
    "        x = self.ups(x)\n",
    "        x = self.softmax(self.conv4(x))\n",
    "        return x"
   ]
  },
  {
   "cell_type": "code",
   "execution_count": 4,
   "metadata": {},
   "outputs": [],
   "source": [
    "class Pix4dDataloader(torch.utils.data.Dataset):\n",
    "\n",
    "    def __init__(self,data_dir):\n",
    "        self.data_dir=data_dir\n",
    "        self.image_names = glob(data_dir + \"/img/*\") \n",
    "        self.gt_names = glob(data_dir + \"/gt/*\")\n",
    "        self.transforms = transforms.Compose([\n",
    "            transforms.ToTensor(),\n",
    "                                           ])\n",
    "\n",
    "    def image_loader(self,image,gt,transform):\n",
    "        \n",
    "        image = transform(Image.open(image).convert('RGB').resize((256, 204), Image.BILINEAR))\n",
    "        gt = transform(Image.open(gt).convert('LA').resize((256, 204), Image.NEAREST)).type(torch.LongTensor)\n",
    "        c,h,w = gt.shape\n",
    "        label = torch.zeros((2,h,w))\n",
    "        for i in range(h):\n",
    "            for j in range(w):\n",
    "                label[gt[0][i][j]][i][j] = 1\n",
    "        return image,label\n",
    "    \n",
    "    \n",
    "    def __len__(self):\n",
    "        return len(self.image_names)\n",
    "\n",
    "    def __getitem__(self, idx):\n",
    "\n",
    "        images = '{}'.format(self.image_names[idx])\n",
    "        gts = '{}'.format(self.gt_names[idx])\n",
    "        images,gts = self.image_loader(images,gts,transform=self.transforms)\n",
    "        return [images,gts]"
   ]
  },
  {
   "cell_type": "code",
   "execution_count": 5,
   "metadata": {},
   "outputs": [
    {
     "name": "stdout",
     "output_type": "stream",
     "text": [
      "loading the model\n"
     ]
    },
    {
     "name": "stderr",
     "output_type": "stream",
     "text": [
      "/home/shimada/Desktop/MLExpert/py3_env/lib/python3.6/site-packages/torch/nn/modules/upsampling.py:129: UserWarning: nn.Upsample is deprecated. Use nn.functional.interpolate instead.\n",
      "  warnings.warn(\"nn.{} is deprecated. Use nn.functional.interpolate instead.\".format(self.name))\n",
      "/home/shimada/Desktop/MLExpert/py3_env/lib/python3.6/site-packages/torch/nn/functional.py:2423: UserWarning: Default upsampling behavior when mode=bilinear is changed to align_corners=False since 0.4.0. Please specify align_corners=True if the old behavior is desired. See the documentation of nn.Upsample for details.\n",
      "  \"See the documentation of nn.Upsample for details.\".format(mode))\n"
     ]
    }
   ],
   "source": [
    "\"\"\"\n",
    "Predict\n",
    "\"\"\"\n",
    "def predict(net,test_loader):\n",
    "        for i, (imgs,labels) in enumerate(test_loader):\n",
    "            \n",
    "            if config.use_gpu:\n",
    "                imgs = Variable(imgs.cuda()).float()\n",
    "                labels = Variable(labels.cuda()).float()\n",
    "\n",
    "            else:\n",
    "                imgs = Variable(imgs).float()\n",
    "                labels = Variable(labels).float()\n",
    "\n",
    "\n",
    "            out = net(imgs)\n",
    "\n",
    "            image = out.max(1)[1]\n",
    "            if config.use_gpu:\n",
    "                image = image.cpu().data.numpy().squeeze()\n",
    "            else:\n",
    "                image = image.data.numpy().squeeze()\n",
    "            \n",
    "            image = cv2.resize(image, dsize=(2022,1608), interpolation=cv2.INTER_NEAREST)\n",
    "            cv2.imwrite('result/predictions.jpg',255*image)\n",
    "                \n",
    "        return 0\n",
    "\n",
    "\n",
    "\n",
    "if __name__ == '__main__':\n",
    "    path_dic={\n",
    "        \"train\":'images',\n",
    "        \"test\": 'images'\n",
    "    }\n",
    "\n",
    "    \"\"\"\n",
    "    Data loading\n",
    "    \"\"\"\n",
    "    \n",
    "    test = Pix4dDataloader(path_dic[\"test\"])\n",
    "    test_loader = torch.utils.data.DataLoader(test, batch_size=config.batch, num_workers=1)\n",
    "    \n",
    "    if config.use_gpu:\n",
    "        net=Net().cuda()\n",
    "    else:\n",
    "        net=Net()\n",
    "    print(\"loading the model\")\n",
    "    epoch = 4995\n",
    "    net.load_state_dict(torch.load(\"trained_model/Net_\"+str(epoch)+\".pkl\"))\n",
    "    predict(net,test_loader)"
   ]
  },
  {
   "cell_type": "code",
   "execution_count": null,
   "metadata": {},
   "outputs": [],
   "source": []
  },
  {
   "cell_type": "code",
   "execution_count": null,
   "metadata": {},
   "outputs": [],
   "source": []
  },
  {
   "cell_type": "code",
   "execution_count": null,
   "metadata": {},
   "outputs": [],
   "source": []
  },
  {
   "cell_type": "code",
   "execution_count": null,
   "metadata": {},
   "outputs": [],
   "source": []
  }
 ],
 "metadata": {
  "kernelspec": {
   "display_name": "py3_env",
   "language": "python",
   "name": "py3_env"
  },
  "language_info": {
   "codemirror_mode": {
    "name": "ipython",
    "version": 3
   },
   "file_extension": ".py",
   "mimetype": "text/x-python",
   "name": "python",
   "nbconvert_exporter": "python",
   "pygments_lexer": "ipython3",
   "version": "3.6.2"
  }
 },
 "nbformat": 4,
 "nbformat_minor": 2
}
